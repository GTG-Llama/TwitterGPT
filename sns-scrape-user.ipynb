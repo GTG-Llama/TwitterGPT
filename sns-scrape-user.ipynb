{
 "cells": [
  {
   "cell_type": "markdown",
   "id": "f62d8193-ea1f-45b2-9f82-dbdfc0ef2cb3",
   "metadata": {},
   "source": [
    "# SNS Scrape"
   ]
  },
  {
   "cell_type": "code",
   "execution_count": 1,
   "id": "a676020d-cbc9-43a8-b882-e3aec6f8636f",
   "metadata": {},
   "outputs": [
    {
     "name": "stdout",
     "output_type": "stream",
     "text": [
      "Requirement already satisfied: snscrape in /Users/darkospy/opt/anaconda3/lib/python3.9/site-packages (0.7.0.20230622)\n",
      "Requirement already satisfied: beautifulsoup4 in /Users/darkospy/opt/anaconda3/lib/python3.9/site-packages (from snscrape) (4.11.1)\n",
      "Requirement already satisfied: requests[socks] in /Users/darkospy/opt/anaconda3/lib/python3.9/site-packages (from snscrape) (2.27.1)\n",
      "Requirement already satisfied: filelock in /Users/darkospy/opt/anaconda3/lib/python3.9/site-packages (from snscrape) (3.6.0)\n",
      "Requirement already satisfied: lxml in /Users/darkospy/opt/anaconda3/lib/python3.9/site-packages (from snscrape) (4.8.0)\n",
      "Requirement already satisfied: soupsieve>1.2 in /Users/darkospy/opt/anaconda3/lib/python3.9/site-packages (from beautifulsoup4->snscrape) (2.3.1)\n",
      "Requirement already satisfied: charset-normalizer~=2.0.0 in /Users/darkospy/opt/anaconda3/lib/python3.9/site-packages (from requests[socks]->snscrape) (2.0.4)\n",
      "Requirement already satisfied: certifi>=2017.4.17 in /Users/darkospy/opt/anaconda3/lib/python3.9/site-packages (from requests[socks]->snscrape) (2021.10.8)\n",
      "Requirement already satisfied: idna<4,>=2.5 in /Users/darkospy/opt/anaconda3/lib/python3.9/site-packages (from requests[socks]->snscrape) (3.3)\n",
      "Requirement already satisfied: urllib3<1.27,>=1.21.1 in /Users/darkospy/opt/anaconda3/lib/python3.9/site-packages (from requests[socks]->snscrape) (1.26.9)\n",
      "Requirement already satisfied: PySocks!=1.5.7,>=1.5.6 in /Users/darkospy/opt/anaconda3/lib/python3.9/site-packages (from requests[socks]->snscrape) (1.7.1)\n"
     ]
    }
   ],
   "source": [
    "!pip install snscrape"
   ]
  },
  {
   "cell_type": "code",
   "execution_count": 2,
   "id": "83363729-41c2-4d2a-908b-69854eb3d3f2",
   "metadata": {},
   "outputs": [],
   "source": [
    "import snscrape.modules.twitter as sntwitter\n",
    "import pandas as pd\n",
    "from tqdm.notebook import tqdm"
   ]
  },
  {
   "cell_type": "markdown",
   "id": "360ce07b-f951-4c02-a5cd-45233e6d8712",
   "metadata": {},
   "source": [
    "## Pulling an exmaple tweet"
   ]
  },
  {
   "cell_type": "code",
   "execution_count": 3,
   "id": "729ef114-a3e2-4773-bd67-ea9826c31c7d",
   "metadata": {},
   "outputs": [
    {
     "data": {
      "application/vnd.jupyter.widget-view+json": {
       "model_id": "6fd779bf34b24f508c2c47c9fb9a02ae",
       "version_major": 2,
       "version_minor": 0
      },
      "text/plain": [
       "  0%|          | 0/100 [00:00<?, ?it/s]"
      ]
     },
     "metadata": {},
     "output_type": "display_data"
    }
   ],
   "source": [
    "scraper = sntwitter.TwitterUserScraper('elonmusk')\n",
    "\n",
    "tweets = []\n",
    "n_tweets = 100\n",
    "for i, tweet in tqdm(enumerate(scraper.get_items()), total=n_tweets):\n",
    "    data = [\n",
    "        tweet.user.username, \n",
    "        tweet.id, \n",
    "        tweet.date, \n",
    "        tweet.rawContent, \n",
    "        tweet.likeCount, \n",
    "        tweet.retweetCount\n",
    "    ]\n",
    "    tweets.append(data)\n",
    "    if i >= n_tweets:\n",
    "        break"
   ]
  },
  {
   "cell_type": "markdown",
   "id": "737503a9-396c-4b04-9d52-25e5960e144d",
   "metadata": {},
   "source": [
    "## Progress Bar + Export"
   ]
  },
  {
   "cell_type": "code",
   "execution_count": 4,
   "id": "2ba10c3b-b6f5-4f42-917a-bb84103a75a4",
   "metadata": {},
   "outputs": [],
   "source": [
    "tweet_df = pd.DataFrame(\n",
    "    tweets, columns=[\"username\", \"id\", \"date\", \"rawContent\", \"like_count\", \"retweet_count\"]\n",
    ")\n",
    "\n",
    "tweet_df.to_csv('profile_tweets.csv', index=False, encoding='utf-8-sig')\n"
   ]
  }
 ],
 "metadata": {
  "kernelspec": {
   "display_name": "Python 3 (ipykernel)",
   "language": "python",
   "name": "python3"
  },
  "language_info": {
   "codemirror_mode": {
    "name": "ipython",
    "version": 3
   },
   "file_extension": ".py",
   "mimetype": "text/x-python",
   "name": "python",
   "nbconvert_exporter": "python",
   "pygments_lexer": "ipython3",
   "version": "3.9.12"
  }
 },
 "nbformat": 4,
 "nbformat_minor": 5
}
